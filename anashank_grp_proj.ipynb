{
 "cells": [
  {
   "cell_type": "code",
   "execution_count": 5,
   "metadata": {},
   "outputs": [],
   "source": [
    "#This code identifies common variants between the three breast cancer subtypes\n",
    "#The vcf and bed file contents are read before annotating the files and finding the common variants"
   ]
  },
  {
   "cell_type": "code",
   "execution_count": 2,
   "metadata": {},
   "outputs": [],
   "source": [
    "import pandas as pd\n",
    "import numpy as np"
   ]
  },
  {
   "cell_type": "code",
   "execution_count": 3,
   "metadata": {},
   "outputs": [],
   "source": [
    "#Function to read vcf files\n",
    "def vcf_read(filename):\n",
    "    with open(filename) as vcf:\n",
    "        for line in vcf:\n",
    "            if(not(line.startswith(\"##\"))):\n",
    "                if(line.startswith(\"#\")):\n",
    "                    vcf_cols = line.split(\"\\t\")        #To store vcf file column names\n",
    "                    break\n",
    "                    \n",
    "    vcf_contents = pd.read_csv(filename,sep='\\t',comment='#',header=None)\n",
    "    vcf_contents.columns = vcf_cols\n",
    "    return vcf_contents"
   ]
  },
  {
   "cell_type": "code",
   "execution_count": 4,
   "metadata": {},
   "outputs": [],
   "source": [
    "#Function to bed files\n",
    "def bed_read(filename):\n",
    "    bed_contents = pd.read_csv(filename,sep=\"\\t\")\n",
    "    return bed_contents"
   ]
  },
  {
   "cell_type": "code",
   "execution_count": 5,
   "metadata": {},
   "outputs": [],
   "source": [
    "#Function to annotate vcf files with gene symbols\n",
    "def annotate_vcf(vcf_contents,bed_contents):\n",
    "    start = bed_contents['START']\n",
    "    stop = bed_contents['STOP']\n",
    "    all_genes = []\n",
    "    for pos in vcf_contents['POS']:\n",
    "        pos_genes = bed_contents.loc[(pos >= bed_contents['START']) & (pos <= bed_contents['STOP'])]['GENESYMBOL'].tolist()\n",
    "        if(len(pos_genes) == 0):\n",
    "            all_genes.append(\"N/A\")                   \n",
    "        else:\n",
    "            all_genes.append(list(set(pos_genes))[0])\n",
    "    vcf_contents[\"GENE_SYMBOL\"] = all_genes\n",
    "    vcf_annot = vcf_contents[[\"#CHROM\",\"POS\",\"REF\",\"ALT\",\"GENE_SYMBOL\"]]\n",
    "    return vcf_annot"
   ]
  },
  {
   "cell_type": "code",
   "execution_count": 11,
   "metadata": {},
   "outputs": [],
   "source": [
    "#Function to find common variants\n",
    "def common_var(vcf_annot_HER2,vcf_annot_nTNBC,vcf_annot_TNBC):\n",
    "    vcf_annot_HER2 = vcf_annot_HER2[vcf_annot_HER2.GENE_SYMBOL != 'N/A']\n",
    "    vcf_annot_nTNBC = vcf_annot_nTNBC[vcf_annot_nTNBC.GENE_SYMBOL != 'N/A']\n",
    "    vcf_annot_TNBC = vcf_annot_TNBC[vcf_annot_TNBC.GENE_SYMBOL != 'N/A']\n",
    "    \n",
    "    common_var = pd.merge(vcf_annot_HER2,pd.merge(vcf_annot_nTNBC,vcf_annot_TNBC))\n",
    "\n",
    "    common_var.to_csv(\"common_variants.tsv\",sep='\\t',index=False)        #File containing common variants\n",
    "    vcf_annot_TNBC.to_csv(\"vcf_annot_TNBC.tsv\",sep='\\t',index=False)     #File containing TNBC variants\n",
    "    "
   ]
  },
  {
   "cell_type": "code",
   "execution_count": 12,
   "metadata": {},
   "outputs": [],
   "source": [
    "bed_contents = bed_read(\"hg19_genes_chr1p_bed.txt\")"
   ]
  },
  {
   "cell_type": "code",
   "execution_count": 13,
   "metadata": {},
   "outputs": [],
   "source": [
    "vcf_contents_HER2 = vcf_read(\"HER2.vcf\")\n",
    "vcf_contents_nTNBC = vcf_read(\"nTNBC.vcf\")\n",
    "vcf_contents_TNBC = vcf_read(\"TNBC.vcf\")"
   ]
  },
  {
   "cell_type": "code",
   "execution_count": 14,
   "metadata": {},
   "outputs": [],
   "source": [
    "vcf_annot_HER2 = annotate_vcf(vcf_contents_HER2,bed_contents)\n",
    "vcf_annot_nTNBC = annotate_vcf(vcf_contents_nTNBC,bed_contents)\n",
    "vcf_annot_TNBC = annotate_vcf(vcf_contents_TNBC,bed_contents)"
   ]
  },
  {
   "cell_type": "code",
   "execution_count": 15,
   "metadata": {},
   "outputs": [],
   "source": [
    "common_var(vcf_annot_HER2,vcf_annot_nTNBC,vcf_annot_TNBC)"
   ]
  },
  {
   "cell_type": "code",
   "execution_count": null,
   "metadata": {},
   "outputs": [],
   "source": []
  }
 ],
 "metadata": {
  "kernelspec": {
   "display_name": "Python 3",
   "language": "python",
   "name": "python3"
  },
  "language_info": {
   "codemirror_mode": {
    "name": "ipython",
    "version": 3
   },
   "file_extension": ".py",
   "mimetype": "text/x-python",
   "name": "python",
   "nbconvert_exporter": "python",
   "pygments_lexer": "ipython3",
   "version": "3.7.5"
  }
 },
 "nbformat": 4,
 "nbformat_minor": 4
}
